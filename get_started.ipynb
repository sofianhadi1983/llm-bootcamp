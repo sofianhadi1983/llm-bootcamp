{
 "cells": [
  {
   "cell_type": "code",
   "execution_count": 1,
   "id": "a4f7745b-da4c-419e-8fa8-b415258bb168",
   "metadata": {},
   "outputs": [],
   "source": [
    "config_file = 'env.yaml'"
   ]
  },
  {
   "cell_type": "code",
   "execution_count": 2,
   "id": "f468a44f-1684-4176-989a-10153e711b0f",
   "metadata": {},
   "outputs": [],
   "source": [
    "import yaml"
   ]
  },
  {
   "cell_type": "code",
   "execution_count": 4,
   "id": "d29e5be9-a762-47a1-9bad-12b272891776",
   "metadata": {},
   "outputs": [],
   "source": [
    " with open(config_file, 'r') as file:\n",
    "        try:\n",
    "            config = yaml.safe_load(file)  \n",
    "        except yaml.YAMLError as e:\n",
    "            print(f\"Error loading YAML file: {e}\")"
   ]
  },
  {
   "cell_type": "code",
   "execution_count": 6,
   "id": "234d05f0-2fa5-4094-a3d5-153b3b2cc4eb",
   "metadata": {},
   "outputs": [],
   "source": [
    "from openai import OpenAI"
   ]
  },
  {
   "cell_type": "code",
   "execution_count": 7,
   "id": "43729abc-6075-477c-97c4-db3da5ab87b8",
   "metadata": {},
   "outputs": [],
   "source": [
    "client = OpenAI(api_key=config['OPENAI_KEY'])\n"
   ]
  },
  {
   "cell_type": "code",
   "execution_count": 9,
   "id": "8801ff04-79f7-4996-925a-38db83abfde9",
   "metadata": {},
   "outputs": [],
   "source": [
    "response = client.chat.completions.create(\n",
    "    model='gpt-4o',\n",
    "    messages=[{\"role\":\"user\", \"content\":\"can you show me the magic of Phi number\"}]\n",
    ")"
   ]
  },
  {
   "cell_type": "code",
   "execution_count": 10,
   "id": "d6c3deab-115d-47a7-97e0-53b354d2ea56",
   "metadata": {},
   "outputs": [
    {
     "data": {
      "text/plain": [
       "ChatCompletion(id='chatcmpl-AtklR5QU8T0aL1my45Be8JUR6j8dg', choices=[Choice(finish_reason='stop', index=0, logprobs=None, message=ChatCompletionMessage(content=\"Certainly! The number you're referring to is often denoted by the Greek letter Phi (Φ) and is known as the golden ratio. It's an irrational number approximately equal to 1.6180339887. The golden ratio has fascinated mathematicians, artists, architects, and others for centuries due to its unique mathematical properties and its occurrence in various natural, artistic, and architectural contexts. Here are some highlights of the magic of Phi:\\n\\n### Mathematical Properties:\\n1. **Unique Ratio**: The golden ratio is defined algebraically by the equation:\\n   \\\\[\\n   \\\\Phi = \\\\frac{1 + \\\\sqrt{5}}{2}\\n   \\\\]\\n   It can also be defined such that if a line is divided into two parts, \\\\(a\\\\) and \\\\(b\\\\), where \\\\(a > b > 0\\\\), then:\\n   \\\\[\\n   \\\\frac{a+b}{a} = \\\\frac{a}{b} = \\\\Phi\\n   \\\\]\\n   \\n2. **Continued Fraction**: Phi has a simple continued fraction representation:\\n   \\\\[\\n   \\\\Phi = 1 + \\\\frac{1}{1 + \\\\frac{1}{1 + \\\\frac{1}{1 + \\\\ldots}}}\\n   \\\\]\\n\\n3. **Relationship with Fibonacci Sequence**: The ratios of successive Fibonacci numbers approximate Phi:\\n   \\\\[\\n   \\\\frac{F(n+1)}{F(n)} \\\\approx \\\\Phi \\\\quad \\\\text{as } n \\\\to \\\\infty\\n   \\\\]\\n\\n### Occurrences in Nature:\\n- **Plant Growth**: The arrangement of leaves, seeds, and other parts of plants often follows the golden ratio, resulting in spiral patterns that optimize light exposure and space.\\n- **Animal Morphology**: Some animals, such as the nautilus shell, exhibit spiral structures consistent with Phi.\\n\\n### Arts and Architecture:\\n- **Art**: Many artists, including Leonardo da Vinci, have used the golden ratio in their works to create aesthetically pleasing compositions.\\n- **Architecture**: Structures like the Parthenon in Greece are said to incorporate proportions based on the golden ratio.\\n\\n### Modern Design:\\nToday, the golden ratio is often used in graphic design, product design, and even on web pages to create visually appealing and harmonious layouts.\\n\\nThe continuing allure of Phi lies in its ubiquity and its capacity to manifest beauty across various domains. Whether in mathematics, nature, or human creations, the golden ratio continues to inspire and intrigue people around the world.\", refusal=None, role='assistant', audio=None, function_call=None, tool_calls=None))], created=1737851165, model='gpt-4o-2024-08-06', object='chat.completion', service_tier='default', system_fingerprint='fp_50cad350e4', usage=CompletionUsage(completion_tokens=507, prompt_tokens=16, total_tokens=523, completion_tokens_details=CompletionTokensDetails(accepted_prediction_tokens=0, audio_tokens=0, reasoning_tokens=0, rejected_prediction_tokens=0), prompt_tokens_details=PromptTokensDetails(audio_tokens=0, cached_tokens=0)))"
      ]
     },
     "execution_count": 10,
     "metadata": {},
     "output_type": "execute_result"
    }
   ],
   "source": [
    "response"
   ]
  },
  {
   "cell_type": "code",
   "execution_count": 11,
   "id": "df605186-22a1-452f-baca-93cbf4c8003c",
   "metadata": {},
   "outputs": [
    {
     "data": {
      "text/plain": [
       "Choice(finish_reason='stop', index=0, logprobs=None, message=ChatCompletionMessage(content=\"Certainly! The number you're referring to is often denoted by the Greek letter Phi (Φ) and is known as the golden ratio. It's an irrational number approximately equal to 1.6180339887. The golden ratio has fascinated mathematicians, artists, architects, and others for centuries due to its unique mathematical properties and its occurrence in various natural, artistic, and architectural contexts. Here are some highlights of the magic of Phi:\\n\\n### Mathematical Properties:\\n1. **Unique Ratio**: The golden ratio is defined algebraically by the equation:\\n   \\\\[\\n   \\\\Phi = \\\\frac{1 + \\\\sqrt{5}}{2}\\n   \\\\]\\n   It can also be defined such that if a line is divided into two parts, \\\\(a\\\\) and \\\\(b\\\\), where \\\\(a > b > 0\\\\), then:\\n   \\\\[\\n   \\\\frac{a+b}{a} = \\\\frac{a}{b} = \\\\Phi\\n   \\\\]\\n   \\n2. **Continued Fraction**: Phi has a simple continued fraction representation:\\n   \\\\[\\n   \\\\Phi = 1 + \\\\frac{1}{1 + \\\\frac{1}{1 + \\\\frac{1}{1 + \\\\ldots}}}\\n   \\\\]\\n\\n3. **Relationship with Fibonacci Sequence**: The ratios of successive Fibonacci numbers approximate Phi:\\n   \\\\[\\n   \\\\frac{F(n+1)}{F(n)} \\\\approx \\\\Phi \\\\quad \\\\text{as } n \\\\to \\\\infty\\n   \\\\]\\n\\n### Occurrences in Nature:\\n- **Plant Growth**: The arrangement of leaves, seeds, and other parts of plants often follows the golden ratio, resulting in spiral patterns that optimize light exposure and space.\\n- **Animal Morphology**: Some animals, such as the nautilus shell, exhibit spiral structures consistent with Phi.\\n\\n### Arts and Architecture:\\n- **Art**: Many artists, including Leonardo da Vinci, have used the golden ratio in their works to create aesthetically pleasing compositions.\\n- **Architecture**: Structures like the Parthenon in Greece are said to incorporate proportions based on the golden ratio.\\n\\n### Modern Design:\\nToday, the golden ratio is often used in graphic design, product design, and even on web pages to create visually appealing and harmonious layouts.\\n\\nThe continuing allure of Phi lies in its ubiquity and its capacity to manifest beauty across various domains. Whether in mathematics, nature, or human creations, the golden ratio continues to inspire and intrigue people around the world.\", refusal=None, role='assistant', audio=None, function_call=None, tool_calls=None))"
      ]
     },
     "execution_count": 11,
     "metadata": {},
     "output_type": "execute_result"
    }
   ],
   "source": [
    "response.choices[0]"
   ]
  },
  {
   "cell_type": "code",
   "execution_count": 12,
   "id": "b8f09572-701d-4819-b29d-4b19d66b9e13",
   "metadata": {},
   "outputs": [
    {
     "data": {
      "text/plain": [
       "\"Certainly! The number you're referring to is often denoted by the Greek letter Phi (Φ) and is known as the golden ratio. It's an irrational number approximately equal to 1.6180339887. The golden ratio has fascinated mathematicians, artists, architects, and others for centuries due to its unique mathematical properties and its occurrence in various natural, artistic, and architectural contexts. Here are some highlights of the magic of Phi:\\n\\n### Mathematical Properties:\\n1. **Unique Ratio**: The golden ratio is defined algebraically by the equation:\\n   \\\\[\\n   \\\\Phi = \\\\frac{1 + \\\\sqrt{5}}{2}\\n   \\\\]\\n   It can also be defined such that if a line is divided into two parts, \\\\(a\\\\) and \\\\(b\\\\), where \\\\(a > b > 0\\\\), then:\\n   \\\\[\\n   \\\\frac{a+b}{a} = \\\\frac{a}{b} = \\\\Phi\\n   \\\\]\\n   \\n2. **Continued Fraction**: Phi has a simple continued fraction representation:\\n   \\\\[\\n   \\\\Phi = 1 + \\\\frac{1}{1 + \\\\frac{1}{1 + \\\\frac{1}{1 + \\\\ldots}}}\\n   \\\\]\\n\\n3. **Relationship with Fibonacci Sequence**: The ratios of successive Fibonacci numbers approximate Phi:\\n   \\\\[\\n   \\\\frac{F(n+1)}{F(n)} \\\\approx \\\\Phi \\\\quad \\\\text{as } n \\\\to \\\\infty\\n   \\\\]\\n\\n### Occurrences in Nature:\\n- **Plant Growth**: The arrangement of leaves, seeds, and other parts of plants often follows the golden ratio, resulting in spiral patterns that optimize light exposure and space.\\n- **Animal Morphology**: Some animals, such as the nautilus shell, exhibit spiral structures consistent with Phi.\\n\\n### Arts and Architecture:\\n- **Art**: Many artists, including Leonardo da Vinci, have used the golden ratio in their works to create aesthetically pleasing compositions.\\n- **Architecture**: Structures like the Parthenon in Greece are said to incorporate proportions based on the golden ratio.\\n\\n### Modern Design:\\nToday, the golden ratio is often used in graphic design, product design, and even on web pages to create visually appealing and harmonious layouts.\\n\\nThe continuing allure of Phi lies in its ubiquity and its capacity to manifest beauty across various domains. Whether in mathematics, nature, or human creations, the golden ratio continues to inspire and intrigue people around the world.\""
      ]
     },
     "execution_count": 12,
     "metadata": {},
     "output_type": "execute_result"
    }
   ],
   "source": [
    "response.choices[0].message.content"
   ]
  },
  {
   "cell_type": "code",
   "execution_count": null,
   "id": "794932b1-87c2-49f8-9303-80f37a8b8f78",
   "metadata": {},
   "outputs": [],
   "source": []
  }
 ],
 "metadata": {
  "kernelspec": {
   "display_name": "Python 3 (ipykernel)",
   "language": "python",
   "name": "python3"
  },
  "language_info": {
   "codemirror_mode": {
    "name": "ipython",
    "version": 3
   },
   "file_extension": ".py",
   "mimetype": "text/x-python",
   "name": "python",
   "nbconvert_exporter": "python",
   "pygments_lexer": "ipython3",
   "version": "3.12.2"
  }
 },
 "nbformat": 4,
 "nbformat_minor": 5
}
